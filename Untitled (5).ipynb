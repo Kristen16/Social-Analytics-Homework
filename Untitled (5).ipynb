{
 "cells": [
  {
   "cell_type": "code",
   "execution_count": 26,
   "metadata": {},
   "outputs": [],
   "source": [
    "import json\n",
    "import tweepy\n",
    "import matplotlib.pyplot as plt\n",
    "import numpy as np\n"
   ]
  },
  {
   "cell_type": "code",
   "execution_count": 27,
   "metadata": {
    "collapsed": true
   },
   "outputs": [],
   "source": [
    "consumer_key = \"tPOdzh7UzR8pKptGSOtYwxxP3\"\n",
    "consumer_secret = \"kRb3HV6dcyIoQo38h0pB2Z3aveEsXrZLULZKidmhbBOLMnjO6G\"\n",
    "access_token = \"938578753168576514-E2s8xjVyKG5mKGx6bP7nC3LT5f2GlxF\"\n",
    "access_token_secret = \"km2NXZXX6kD8d6havKjepLyEwhbpAD7iTYPKUdhON9Gwc\""
   ]
  },
  {
   "cell_type": "code",
   "execution_count": 28,
   "metadata": {},
   "outputs": [],
   "source": [
    "auth = tweepy.OAuthHandler(consumer_key, consumer_secret)\n",
    "auth.set_access_token(access_token, access_token_secret)\n",
    "api = tweepy.API(auth, parser=tweepy.parsers.JSONParser())"
   ]
  },
  {
   "cell_type": "code",
   "execution_count": null,
   "metadata": {
    "collapsed": true
   },
   "outputs": [],
   "source": []
  },
  {
   "cell_type": "code",
   "execution_count": null,
   "metadata": {},
   "outputs": [],
   "source": []
  },
  {
   "cell_type": "code",
   "execution_count": 29,
   "metadata": {},
   "outputs": [
    {
     "name": "stdout",
     "output_type": "stream",
     "text": [
      "Mary Berry's mulled wine is the perfect tipple to keep you warm this winter. 🍷 🍊🎄 https://t.co/ATzaXoRV3A https://t.co/dK50obxSDN\n",
      "RT @BBCNewsround: Here are some incredibly photogenic creatures to make your Monday 😂 https://t.co/y2uji2weba https://t.co/12CT0CfJCX\n",
      "RT @bbcmusic: 16 things you NEED to know about the #SoundOf2018 longlist 💫\n",
      "\n",
      "👉 https://t.co/hNjQEM3vJb https://t.co/N1egQ4f2V3\n",
      "RT @BBCNewsbeat: A member of one of South Korea's biggest boy bands has died suddenly.\n",
      "\n",
      "Jonghyun, full name Kim Jong-hyun, was one of the f…\n",
      "RT @bbcstories: When Paul was arrested his dad Kwesi didn’t speak to him for a year.\n",
      "Now they’re finally having a serious, honest, father-s…\n",
      "RT @BBCTwo: How to make a Christmas cake in 90 seconds. 😲🎄 #InsideTheChristmasFactory https://t.co/Zqc6rsCaAl\n",
      "Tonight, some familiar faces return to Royston Vasey. #TheLeagueofGentlemen 10pm on @BBCTwo. https://t.co/OmAH91Vc4b https://t.co/V0hqBfRxSG\n",
      "Tonight, @RobBrydon, @LeeMack and @RealDMitchell are back with some special guests for a festive edition of Would I… https://t.co/m8t6IrJ7ah\n",
      "Mary Berry is joined by @DarceyOfficial, @MissAlexjones, @Fearnecotton and @adilray to cook delicious party dishes.… https://t.co/01IR3vxzHQ\n",
      "Discover the fascinating processes behind making Christmas cake, baubles and brandy. Inside The Christmas Factory.… https://t.co/X87I91xCYu\n",
      "From stolen underwear to drum kit throwing, get ready for @U2 at the BBC. Tuesday at 9pm on @BBCOne. 🥁 😂 Via… https://t.co/K0GwMLplDd\n",
      "🍾🥂 #AbFab's Eddie &amp; Patsy loved nothing more than cracking open a bottle. Now, Joanna &amp; Jennifer are taking a trip… https://t.co/0MZIk3kfOR\n",
      "The Right Reverend Sarah Mullally has been named as the first female Bishop of London. https://t.co/RP2mka856g https://t.co/Auh3n29tu7\n",
      "Princess Charlotte will start nursery school in January, the Duke and Duchess of Cambridge have announced.… https://t.co/9ojLQQkgYP\n",
      "A disguise so good, even the police are impressed. #ScotSquad 😂🚓🚨 Via @BBCScotland https://t.co/9yekjDuVrm\n",
      "The Greeks, the Turks and the Syrians have all tried to claim it... But who invented hummus?… https://t.co/ZmNCsWFVY0\n",
      "🏆🎄 @PoguesOfficial's 'Fairytale of New York' wins World Cup of Christmas songs. https://t.co/cMSqXkpOkH https://t.co/lhKdBlhKj1\n",
      "RT @BBC_Teach: Make your yuletide sparkle by growing some #TerrificScientific ❄️ Christmas crystals ❄️ using the power of science and some…\n",
      "'We realised that our research would be sitting on a couch and watching all their films!' \n",
      "Michael Zam &amp; Jaffe Cohe… https://t.co/zleilPlJ5y\n",
      "A member of one of South Korea's leading boy bands, Shinee, has died suddenly. 💔 https://t.co/Lywc4zovfr https://t.co/XR2zYig0qk\n",
      "Tweet Count: 20\n"
     ]
    }
   ],
   "source": [
    "target_user = \"BBC\"\n",
    "\n",
    "# Tweet Texts\n",
    "tweet_texts = []\n",
    "\n",
    "# Get all tweets from home feed\n",
    "public_tweets = api.user_timeline(target_user)\n",
    "\n",
    "# Loop through all tweets\n",
    "for tweet in public_tweets:\n",
    "\n",
    "    # Print Tweet\n",
    "    print(tweet[\"text\"])\n",
    "\n",
    "    # Store Tweet in Array\n",
    "    tweet_texts.append(tweet[\"text\"])\n",
    "\n",
    "# Print the Tweet Count\n",
    "print(\"Tweet Count: %s\" % len(tweet_texts))\n"
   ]
  },
  {
   "cell_type": "code",
   "execution_count": null,
   "metadata": {
    "collapsed": true
   },
   "outputs": [],
   "source": []
  }
 ],
 "metadata": {
  "kernelspec": {
   "display_name": "Python 3",
   "language": "python",
   "name": "python3"
  },
  "language_info": {
   "codemirror_mode": {
    "name": "ipython",
    "version": 3
   },
   "file_extension": ".py",
   "mimetype": "text/x-python",
   "name": "python",
   "nbconvert_exporter": "python",
   "pygments_lexer": "ipython3",
   "version": "3.6.3"
  }
 },
 "nbformat": 4,
 "nbformat_minor": 2
}
